{
 "cells": [
  {
   "cell_type": "code",
   "execution_count": 13,
   "metadata": {},
   "outputs": [
    {
     "name": "stdout",
     "output_type": "stream",
     "text": [
      "[16, 11, 15, 13, 13, 15, 12, 19, 18, 19, 11, 16, 17, 19, 13]\n"
     ]
    }
   ],
   "source": [
    "import random\n",
    "\n",
    "num = []\n",
    "\n",
    "num_size = random.randint(10, 15)\n",
    "for _ in range(num_size):\n",
    "    num.append(random.randint(10, 20))\n",
    "    \n",
    "print(num)"
   ]
  },
  {
   "cell_type": "code",
   "execution_count": 16,
   "metadata": {},
   "outputs": [
    {
     "name": "stdout",
     "output_type": "stream",
     "text": [
      "['16', '11', '15', '13', '13', '15', '12', '19', '18', '19', '11', '16', '17', '19', '13']\n"
     ]
    }
   ],
   "source": [
    "def to_str(num):\n",
    "    return list(map(str, num))\n",
    "\n",
    "print(to_str(num))"
   ]
  },
  {
   "cell_type": "code",
   "execution_count": 15,
   "metadata": {},
   "outputs": [
    {
     "data": {
      "text/plain": [
       "['16',\n",
       " '11',\n",
       " '15',\n",
       " '13',\n",
       " '13',\n",
       " '15',\n",
       " '12',\n",
       " '19',\n",
       " '18',\n",
       " '19',\n",
       " '11',\n",
       " '16',\n",
       " '17',\n",
       " '19',\n",
       " '13']"
      ]
     },
     "execution_count": 15,
     "metadata": {},
     "output_type": "execute_result"
    }
   ],
   "source": []
  },
  {
   "cell_type": "code",
   "execution_count": null,
   "metadata": {},
   "outputs": [],
   "source": []
  }
 ],
 "metadata": {
  "kernelspec": {
   "display_name": "Python 3",
   "language": "python",
   "name": "python3"
  },
  "language_info": {
   "codemirror_mode": {
    "name": "ipython",
    "version": 3
   },
   "file_extension": ".py",
   "mimetype": "text/x-python",
   "name": "python",
   "nbconvert_exporter": "python",
   "pygments_lexer": "ipython3",
   "version": "3.7.4"
  }
 },
 "nbformat": 4,
 "nbformat_minor": 2
}
