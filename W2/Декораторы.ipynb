{
 "cells": [
  {
   "cell_type": "code",
   "execution_count": 1,
   "metadata": {},
   "outputs": [],
   "source": [
    "def decorator(func):\n",
    "    return func\n",
    "\n",
    "\n",
    "@decorator\n",
    "def decorated():\n",
    "    print('Hello!')"
   ]
  },
  {
   "cell_type": "code",
   "execution_count": 2,
   "metadata": {},
   "outputs": [],
   "source": [
    "decorated = decorator(decorated)\n"
   ]
  },
  {
   "cell_type": "code",
   "execution_count": 3,
   "metadata": {},
   "outputs": [],
   "source": [
    "def decorator(func):\n",
    "    def new_func():\n",
    "        pass\n",
    "    return new_func\n",
    "\n",
    "\n",
    "@decorator\n",
    "def decorated():\n",
    "    print('Hello!')\n",
    "    \n",
    "    \n",
    "decorated()"
   ]
  },
  {
   "cell_type": "code",
   "execution_count": 4,
   "metadata": {},
   "outputs": [
    {
     "name": "stdout",
     "output_type": "stream",
     "text": [
      "new_func\n"
     ]
    }
   ],
   "source": [
    "print(decorated.__name__)"
   ]
  },
  {
   "cell_type": "markdown",
   "metadata": {},
   "source": [
    "### Написать декоратор, который записывает в лог результат декорируемой функции\n"
   ]
  },
  {
   "cell_type": "code",
   "execution_count": 5,
   "metadata": {},
   "outputs": [
    {
     "name": "stdout",
     "output_type": "stream",
     "text": [
      "Summator: 10\n",
      "summator\n"
     ]
    }
   ],
   "source": [
    "import functools\n",
    "\n",
    "\n",
    "def logger(func):\n",
    "    @functools.wraps(func)\n",
    "    def wrapped(*args, **kwargs):\n",
    "        result = func(*args, **kwargs)\n",
    "        with open('log.txt', 'w') as f:\n",
    "            f.write(str(result))\n",
    "\n",
    "        return result    \n",
    "    return wrapped\n",
    "\n",
    "\n",
    "@logger\n",
    "def summator(num_list):\n",
    "    return sum(num_list)\n",
    "\n",
    "\n",
    "print('Summator: {}'.format(summator([1, 2, 3, 4])))\n",
    "\n",
    "print(summator.__name__)"
   ]
  },
  {
   "cell_type": "markdown",
   "metadata": {},
   "source": [
    "### Написать декоратор с параметром, который записывает лог в указанный файл"
   ]
  },
  {
   "cell_type": "code",
   "execution_count": 6,
   "metadata": {},
   "outputs": [
    {
     "name": "stdout",
     "output_type": "stream",
     "text": [
      "21\n"
     ]
    }
   ],
   "source": [
    "def logger(filename):\n",
    "    def decorator(func):\n",
    "        def wrapped(*args, **kwargs):\n",
    "            result = func(*args, **kwargs)\n",
    "            with open(filename, 'w') as f:\n",
    "                f.write(str(result))\n",
    "            return result\n",
    "        return wrapped\n",
    "    return decorator\n",
    "\n",
    "\n",
    "@logger('new_log.txt')\n",
    "def summator(num_list):\n",
    "    return sum(num_list)\n",
    "\n",
    "\n",
    "# summator = logger('log.txt')(summator)\n",
    "\n",
    "\n",
    "summator([1, 2, 3, 4, 5, 6])\n",
    "\n",
    "with open('new_log.txt', 'r') as f:\n",
    "    print(f.read())"
   ]
  },
  {
   "cell_type": "code",
   "execution_count": 7,
   "metadata": {},
   "outputs": [],
   "source": [
    "def first_decorator(func):\n",
    "    def wrapped():\n",
    "        print('Inside first_decorator product')\n",
    "        return func()\n",
    "    return wrapped\n",
    "\n",
    "\n",
    "def second_decorator(func):\n",
    "    def wrapped():\n",
    "        print('Inside second_decorator product')\n",
    "        return func()\n",
    "    return wrapped"
   ]
  },
  {
   "cell_type": "code",
   "execution_count": 8,
   "metadata": {},
   "outputs": [
    {
     "name": "stdout",
     "output_type": "stream",
     "text": [
      "Inside first_decorator product\n",
      "Inside second_decorator product\n",
      "Finally called...\n"
     ]
    }
   ],
   "source": [
    "@first_decorator\n",
    "@second_decorator\n",
    "def decorated():\n",
    "    print('Finally called...')\n",
    "    \n",
    "    \n",
    "# decorated = first_decorator(second_decorator(decorated))\n",
    "    \n",
    "\n",
    "decorated()"
   ]
  },
  {
   "cell_type": "code",
   "execution_count": 9,
   "metadata": {},
   "outputs": [
    {
     "name": "stdout",
     "output_type": "stream",
     "text": [
      "<b><i>hello world</i></b>\n"
     ]
    }
   ],
   "source": [
    "def bold(func):\n",
    "    def wrapped():\n",
    "        return \"<b>\" + func() + \"</b>\"\n",
    "    return wrapped\n",
    "\n",
    "\n",
    "def italic(func):\n",
    "    def wrapped():\n",
    "        return \"<i>\" + func() + \"</i>\"\n",
    "    return wrapped\n",
    "\n",
    "\n",
    "@bold\n",
    "@italic\n",
    "def hello():\n",
    "    return \"hello world\"\n",
    "\n",
    "\n",
    "# hello = bold(italic(hello))\n",
    "\n",
    "\n",
    "print(hello())"
   ]
  },
  {
   "cell_type": "code",
   "execution_count": null,
   "metadata": {},
   "outputs": [],
   "source": []
  }
 ],
 "metadata": {
  "kernelspec": {
   "display_name": "Python 3",
   "language": "python",
   "name": "python3"
  },
  "language_info": {
   "codemirror_mode": {
    "name": "ipython",
    "version": 3
   },
   "file_extension": ".py",
   "mimetype": "text/x-python",
   "name": "python",
   "nbconvert_exporter": "python",
   "pygments_lexer": "ipython3",
   "version": "3.7.4"
  }
 },
 "nbformat": 4,
 "nbformat_minor": 2
}
